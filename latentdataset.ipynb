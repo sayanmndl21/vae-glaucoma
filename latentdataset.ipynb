{
 "metadata": {
  "language_info": {
   "codemirror_mode": {
    "name": "ipython",
    "version": 3
   },
   "file_extension": ".py",
   "mimetype": "text/x-python",
   "name": "python",
   "nbconvert_exporter": "python",
   "pygments_lexer": "ipython3",
   "version": "3.8.9"
  },
  "orig_nbformat": 2,
  "kernelspec": {
   "name": "python3",
   "display_name": "Python 3.8.9 64-bit"
  }
 },
 "nbformat": 4,
 "nbformat_minor": 2,
 "cells": [
  {
   "cell_type": "code",
   "execution_count": 1,
   "metadata": {},
   "outputs": [],
   "source": [
    "import torch; torch.manual_seed(0)\n",
    "import torch.nn as nn\n",
    "import torch.nn.functional as F\n",
    "import torch.utils\n",
    "import torch.distributions\n",
    "import torchvision\n",
    "import numpy as np\n",
    "import pandas as pd\n",
    "import torchvision.models as models \n",
    "from torchvision import transforms, utils\n",
    "from torch.utils.data.sampler import SubsetRandomSampler\n",
    "import torch.optim as optim\n",
    "import matplotlib.pyplot as plt\n",
    "import latent_plot as lp\n",
    "from torch.autograd import Variable\n",
    "from torch.optim import lr_scheduler\n",
    "import seaborn as sns\n",
    "import os\n",
    "os.environ['CUDA_LAUNCH_BLOCKING'] = '1'\n",
    "import copy\n",
    "#from model import VAE\n",
    "\n",
    "import matplotlib.pyplot as plt; plt.rcParams['figure.dpi'] = 200\n",
    "from data_loader import *\n",
    "from model import convVAE\n",
    "from sklearn.manifold import TSNE"
   ]
  },
  {
   "cell_type": "code",
   "execution_count": 2,
   "metadata": {},
   "outputs": [],
   "source": [
    "#only on validation set\n",
    "csv_path = '/home/vip/sayan-mandal/datasets/obj_criteria/20200619-objective.csv'\n",
    "img_path = '/home/vip/sayan-mandal/datasets/obj_criteria/good_reduced/'\n",
    "\n",
    "ResizeParam = 128\n",
    "FD = FullDataLoader(csv_path, img_path,transform=transforms.Compose([transforms.Resize(ResizeParam), transforms.RandomHorizontalFlip(p=0.5) ,transforms.ToTensor()]))\n",
    "FD2 = FullDataLoader(csv_path, img_path,transform=transforms.Compose([transforms.Resize(ResizeParam), transforms.ToTensor()]))\n",
    "\n",
    "#random sampler\n",
    "batch_size = 64\n",
    "validation_split = .2\n",
    "shuffle_dataset = True\n",
    "random_seed= 42\n",
    "\n",
    "# Creating data indices for training and validation splits:\n",
    "dataset_size = len(FD)\n",
    "indices = list(range(dataset_size))\n",
    "split = int(np.floor(validation_split * dataset_size))\n",
    "if shuffle_dataset :\n",
    "    np.random.seed(random_seed)\n",
    "    np.random.shuffle(indices)\n",
    "val_indices =  indices[:split]\n",
    "\n",
    "# Creating PT data samplers and loaders:\n",
    "valid_sampler = SubsetRandomSampler(val_indices)\n",
    "\n",
    "#train_loader = torch.utils.data.DataLoader(FD, batch_size=batch_size, sampler=train_sampler)\n",
    "data_loader = torch.utils.data.DataLoader(FD2, batch_size=batch_size, sampler=valid_sampler)"
   ]
  },
  {
   "cell_type": "code",
   "execution_count": 3,
   "metadata": {},
   "outputs": [
    {
     "output_type": "stream",
     "name": "stdout",
     "text": [
      "convVAE(\n  (encoder): Sequential(\n    (0): Conv2d(3, 16, kernel_size=(3, 3), stride=(1, 1), padding=(1, 1))\n    (1): BatchNorm2d(16, eps=1e-05, momentum=0.1, affine=True, track_running_stats=True)\n    (2): LeakyReLU(negative_slope=0.01)\n    (3): Conv2d(16, 32, kernel_size=(3, 3), stride=(2, 2), padding=(1, 1))\n    (4): BatchNorm2d(32, eps=1e-05, momentum=0.1, affine=True, track_running_stats=True)\n    (5): LeakyReLU(negative_slope=0.01)\n    (6): Conv2d(32, 64, kernel_size=(3, 3), stride=(1, 1), padding=(1, 1))\n    (7): BatchNorm2d(64, eps=1e-05, momentum=0.1, affine=True, track_running_stats=True)\n    (8): LeakyReLU(negative_slope=0.01)\n    (9): Conv2d(64, 16, kernel_size=(3, 3), stride=(2, 2), padding=(1, 1))\n    (10): BatchNorm2d(16, eps=1e-05, momentum=0.1, affine=True, track_running_stats=True)\n    (11): LeakyReLU(negative_slope=0.01)\n    (12): Flatten(start_dim=1, end_dim=-1)\n  )\n  (fc1): Sequential(\n    (0): Linear(in_features=16384, out_features=4096, bias=True)\n    (1): BatchNorm1d(4096, eps=1e-05, momentum=0.1, affine=True, track_running_stats=True)\n    (2): LeakyReLU(negative_slope=0.01)\n    (3): Linear(in_features=4096, out_features=2048, bias=True)\n    (4): BatchNorm1d(2048, eps=1e-05, momentum=0.1, affine=True, track_running_stats=True)\n    (5): LeakyReLU(negative_slope=0.01)\n  )\n  (fc21): Sequential(\n    (0): Linear(in_features=2048, out_features=2048, bias=True)\n  )\n  (fc22): Sequential(\n    (0): Linear(in_features=2048, out_features=2048, bias=True)\n  )\n  (fc3): Sequential(\n    (0): Linear(in_features=2048, out_features=4096, bias=True)\n    (1): BatchNorm1d(4096, eps=1e-05, momentum=0.1, affine=True, track_running_stats=True)\n    (2): LeakyReLU(negative_slope=0.01)\n    (3): Linear(in_features=4096, out_features=16384, bias=True)\n    (4): BatchNorm1d(16384, eps=1e-05, momentum=0.1, affine=True, track_running_stats=True)\n    (5): LeakyReLU(negative_slope=0.01)\n  )\n  (decoder): Sequential(\n    (0): ConvTranspose2d(16, 64, kernel_size=(3, 3), stride=(2, 2), padding=(1, 1), output_padding=(1, 1))\n    (1): BatchNorm2d(64, eps=1e-05, momentum=0.1, affine=True, track_running_stats=True)\n    (2): LeakyReLU(negative_slope=0.01)\n    (3): ConvTranspose2d(64, 32, kernel_size=(3, 3), stride=(1, 1), padding=(1, 1))\n    (4): BatchNorm2d(32, eps=1e-05, momentum=0.1, affine=True, track_running_stats=True)\n    (5): LeakyReLU(negative_slope=0.01)\n    (6): ConvTranspose2d(32, 16, kernel_size=(3, 3), stride=(2, 2), padding=(1, 1), output_padding=(1, 1))\n    (7): BatchNorm2d(16, eps=1e-05, momentum=0.1, affine=True, track_running_stats=True)\n    (8): LeakyReLU(negative_slope=0.01)\n    (9): ConvTranspose2d(16, 3, kernel_size=(3, 3), stride=(1, 1), padding=(1, 1))\n    (10): Sigmoid()\n  )\n)\n"
     ]
    }
   ],
   "source": [
    "#vae model structure\n",
    "nl = 2048\n",
    "model = convVAE((3,128,128),nl).cuda()\n",
    "model.load_state_dict(torch.load('/home/vip/sayan-mandal/vae-convmodels/dfcvae_inp128_nl'+str(nl)+'_a1b1.torch'))\n",
    "print(model)"
   ]
  },
  {
   "cell_type": "code",
   "execution_count": 4,
   "metadata": {},
   "outputs": [],
   "source": [
    "for i, (data,l1,l2,l3,l4,l5,l6,l7,l8,l9,l10) in enumerate(data_loader):\n",
    "    y, _,_ =  model.encode(Variable(data).cuda())\n",
    "    y = y.cpu().detach().numpy()\n",
    "    if i == 0:\n",
    "        yd = y\n",
    "        lbl1,lbl2,lbl3,lbl4,lbl5,lbl6,lbl7,lbl8,lbl9,lbl10 = l1.numpy(),l2.numpy(),l3.numpy(),l4.numpy(),l5.numpy(),l6.numpy(),l7.numpy(),l8.numpy(),l9.numpy(),l10.numpy()\n",
    "    else:\n",
    "        yd = np.append(yd,y,axis=0)\n",
    "        lbl1 = np.append(lbl1,l1.numpy(), axis=0)\n",
    "        lbl2= np.append(lbl2,l2.numpy(), axis=0)\n",
    "        lbl3= np.append(lbl3,l3.numpy(), axis=0)\n",
    "        lbl4= np.append(lbl4,l4.numpy(), axis=0)\n",
    "        lbl5= np.append(lbl5,l5.numpy(), axis=0)\n",
    "        lbl6= np.append(lbl6,l6.numpy(), axis=0)\n",
    "        lbl7= np.append(lbl7,l7.numpy(), axis=0)\n",
    "        lbl8= np.append(lbl8,l8.numpy(), axis=0)\n",
    "        lbl9= np.append(lbl9,l9.numpy(), axis=0)\n",
    "        lbl10 = np.append(lbl10,l10.numpy(), axis=0)"
   ]
  },
  {
   "cell_type": "code",
   "execution_count": 7,
   "metadata": {},
   "outputs": [
    {
     "output_type": "execute_result",
     "data": {
      "text/plain": [
       "(1725, 2048)"
      ]
     },
     "metadata": {},
     "execution_count": 7
    }
   ],
   "source": [
    "yd.shape"
   ]
  },
  {
   "cell_type": "code",
   "execution_count": 13,
   "metadata": {},
   "outputs": [],
   "source": [
    "lbl1 = lbl1.reshape(-1,1)\n",
    "lbl2 = lbl2.reshape(-1,1)\n",
    "lbl3 = lbl3.reshape(-1,1)\n",
    "lbl4 = lbl4.reshape(-1,1)\n",
    "lbl5 = lbl5.reshape(-1,1)\n",
    "lbl6 = lbl6.reshape(-1,1)\n",
    "lbl7 = lbl7.reshape(-1,1)\n",
    "lbl8 = lbl8.reshape(-1,1)\n",
    "lbl9 = lbl9.reshape(-1,1)\n",
    "lbl10 = lbl10.reshape(-1,1)"
   ]
  },
  {
   "cell_type": "code",
   "execution_count": 14,
   "metadata": {},
   "outputs": [],
   "source": [
    "cols = ['class','mdprob','psdprob','md_inf','md_sup','rnfl_g','rnfl_ti','rnfl_ni','rnfl_ts','rnfl_ns']\n",
    "for i in range(2048):\n",
    "    cols += ['ls_'+str(i)]"
   ]
  },
  {
   "cell_type": "code",
   "execution_count": 22,
   "metadata": {},
   "outputs": [],
   "source": [
    "to_df = np.concatenate((lbl1,lbl2,lbl3,lbl4,lbl5,lbl6,lbl7,lbl8,lbl9,lbl10,yd),axis=1)"
   ]
  },
  {
   "cell_type": "code",
   "execution_count": 23,
   "metadata": {},
   "outputs": [],
   "source": [
    "df = pd.DataFrame(data=to_df, columns=cols)"
   ]
  },
  {
   "cell_type": "code",
   "execution_count": 24,
   "metadata": {},
   "outputs": [
    {
     "output_type": "execute_result",
     "data": {
      "text/plain": [
       "      class  mdprob  psdprob  md_inf  md_sup  rnfl_g  rnfl_ti  rnfl_ni  \\\n",
       "0       1.0     0.0      2.0     0.0     0.0     2.0      2.0      0.0   \n",
       "1       0.0     0.0      0.0     0.0     0.0     0.0      0.0      0.0   \n",
       "2       0.0     0.0      0.0     0.0     0.0     0.0      0.0      0.0   \n",
       "3       0.0     0.0      0.0     0.0     0.0     0.0      0.0      0.0   \n",
       "4       0.0     0.0      0.0     0.0     0.0     0.0      0.0      0.0   \n",
       "...     ...     ...      ...     ...     ...     ...      ...      ...   \n",
       "1720    0.0     0.0      0.0     0.0     0.0     0.0      0.0      0.0   \n",
       "1721    0.0     0.0      0.0     0.0     0.0     0.0      0.0      0.0   \n",
       "1722    0.0     0.0      0.0     0.0     0.0     0.0      0.0      0.0   \n",
       "1723    0.0     0.0      0.0     0.0     0.0     0.0      0.0      0.0   \n",
       "1724    0.0     0.0      0.0     0.0     0.0     0.0      0.0      0.0   \n",
       "\n",
       "      rnfl_ts  rnfl_ns  ...   ls_2038   ls_2039   ls_2040   ls_2041   ls_2042  \\\n",
       "0         2.0      1.0  ... -0.035497  0.017104 -0.024490 -0.003946  0.009751   \n",
       "1         0.0      0.0  ...  0.059229  0.020277 -0.052141 -0.000271 -0.039300   \n",
       "2         0.0      0.0  ... -0.041434  0.092617  0.090972 -0.012806 -0.064488   \n",
       "3         0.0      0.0  ... -0.070935 -0.040561 -0.000830 -0.013262 -0.039083   \n",
       "4         0.0      0.0  ...  0.033665 -0.055730  0.083801  0.018755 -0.152896   \n",
       "...       ...      ...  ...       ...       ...       ...       ...       ...   \n",
       "1720      0.0      0.0  ... -0.019647  0.026008 -0.032711  0.002885 -0.044107   \n",
       "1721      0.0      0.0  ... -0.030018 -0.019068 -0.021037  0.007441 -0.001744   \n",
       "1722      0.0      0.0  ... -0.039180  0.028197  0.133708 -0.000668  0.091200   \n",
       "1723      0.0      0.0  ...  0.033015 -0.010623 -0.032000 -0.003663 -0.067166   \n",
       "1724      0.0      0.0  ... -0.012472 -0.014475 -0.033967 -0.000113 -0.023129   \n",
       "\n",
       "       ls_2043   ls_2044   ls_2045   ls_2046   ls_2047  \n",
       "0    -0.017343 -0.061130  0.020249 -0.026730  0.002883  \n",
       "1     0.032732 -0.040822 -0.031884 -0.044544 -0.066987  \n",
       "2     0.037780 -0.033381  0.000841 -0.044127  0.032626  \n",
       "3    -0.029831 -0.008518 -0.018122 -0.022468 -0.061820  \n",
       "4    -0.028705 -0.033379 -0.043857  0.043309  0.038543  \n",
       "...        ...       ...       ...       ...       ...  \n",
       "1720 -0.026433 -0.000745 -0.043905 -0.048070 -0.023680  \n",
       "1721  0.014481  0.006427 -0.040510  0.024882  0.046480  \n",
       "1722  0.060185  0.023998  0.017122  0.026496  0.013872  \n",
       "1723 -0.012841  0.047152 -0.003716 -0.036523 -0.062790  \n",
       "1724 -0.000008 -0.000935  0.030033  0.041997  0.034831  \n",
       "\n",
       "[1725 rows x 2058 columns]"
      ],
      "text/html": "<div>\n<style scoped>\n    .dataframe tbody tr th:only-of-type {\n        vertical-align: middle;\n    }\n\n    .dataframe tbody tr th {\n        vertical-align: top;\n    }\n\n    .dataframe thead th {\n        text-align: right;\n    }\n</style>\n<table border=\"1\" class=\"dataframe\">\n  <thead>\n    <tr style=\"text-align: right;\">\n      <th></th>\n      <th>class</th>\n      <th>mdprob</th>\n      <th>psdprob</th>\n      <th>md_inf</th>\n      <th>md_sup</th>\n      <th>rnfl_g</th>\n      <th>rnfl_ti</th>\n      <th>rnfl_ni</th>\n      <th>rnfl_ts</th>\n      <th>rnfl_ns</th>\n      <th>...</th>\n      <th>ls_2038</th>\n      <th>ls_2039</th>\n      <th>ls_2040</th>\n      <th>ls_2041</th>\n      <th>ls_2042</th>\n      <th>ls_2043</th>\n      <th>ls_2044</th>\n      <th>ls_2045</th>\n      <th>ls_2046</th>\n      <th>ls_2047</th>\n    </tr>\n  </thead>\n  <tbody>\n    <tr>\n      <th>0</th>\n      <td>1.0</td>\n      <td>0.0</td>\n      <td>2.0</td>\n      <td>0.0</td>\n      <td>0.0</td>\n      <td>2.0</td>\n      <td>2.0</td>\n      <td>0.0</td>\n      <td>2.0</td>\n      <td>1.0</td>\n      <td>...</td>\n      <td>-0.035497</td>\n      <td>0.017104</td>\n      <td>-0.024490</td>\n      <td>-0.003946</td>\n      <td>0.009751</td>\n      <td>-0.017343</td>\n      <td>-0.061130</td>\n      <td>0.020249</td>\n      <td>-0.026730</td>\n      <td>0.002883</td>\n    </tr>\n    <tr>\n      <th>1</th>\n      <td>0.0</td>\n      <td>0.0</td>\n      <td>0.0</td>\n      <td>0.0</td>\n      <td>0.0</td>\n      <td>0.0</td>\n      <td>0.0</td>\n      <td>0.0</td>\n      <td>0.0</td>\n      <td>0.0</td>\n      <td>...</td>\n      <td>0.059229</td>\n      <td>0.020277</td>\n      <td>-0.052141</td>\n      <td>-0.000271</td>\n      <td>-0.039300</td>\n      <td>0.032732</td>\n      <td>-0.040822</td>\n      <td>-0.031884</td>\n      <td>-0.044544</td>\n      <td>-0.066987</td>\n    </tr>\n    <tr>\n      <th>2</th>\n      <td>0.0</td>\n      <td>0.0</td>\n      <td>0.0</td>\n      <td>0.0</td>\n      <td>0.0</td>\n      <td>0.0</td>\n      <td>0.0</td>\n      <td>0.0</td>\n      <td>0.0</td>\n      <td>0.0</td>\n      <td>...</td>\n      <td>-0.041434</td>\n      <td>0.092617</td>\n      <td>0.090972</td>\n      <td>-0.012806</td>\n      <td>-0.064488</td>\n      <td>0.037780</td>\n      <td>-0.033381</td>\n      <td>0.000841</td>\n      <td>-0.044127</td>\n      <td>0.032626</td>\n    </tr>\n    <tr>\n      <th>3</th>\n      <td>0.0</td>\n      <td>0.0</td>\n      <td>0.0</td>\n      <td>0.0</td>\n      <td>0.0</td>\n      <td>0.0</td>\n      <td>0.0</td>\n      <td>0.0</td>\n      <td>0.0</td>\n      <td>0.0</td>\n      <td>...</td>\n      <td>-0.070935</td>\n      <td>-0.040561</td>\n      <td>-0.000830</td>\n      <td>-0.013262</td>\n      <td>-0.039083</td>\n      <td>-0.029831</td>\n      <td>-0.008518</td>\n      <td>-0.018122</td>\n      <td>-0.022468</td>\n      <td>-0.061820</td>\n    </tr>\n    <tr>\n      <th>4</th>\n      <td>0.0</td>\n      <td>0.0</td>\n      <td>0.0</td>\n      <td>0.0</td>\n      <td>0.0</td>\n      <td>0.0</td>\n      <td>0.0</td>\n      <td>0.0</td>\n      <td>0.0</td>\n      <td>0.0</td>\n      <td>...</td>\n      <td>0.033665</td>\n      <td>-0.055730</td>\n      <td>0.083801</td>\n      <td>0.018755</td>\n      <td>-0.152896</td>\n      <td>-0.028705</td>\n      <td>-0.033379</td>\n      <td>-0.043857</td>\n      <td>0.043309</td>\n      <td>0.038543</td>\n    </tr>\n    <tr>\n      <th>...</th>\n      <td>...</td>\n      <td>...</td>\n      <td>...</td>\n      <td>...</td>\n      <td>...</td>\n      <td>...</td>\n      <td>...</td>\n      <td>...</td>\n      <td>...</td>\n      <td>...</td>\n      <td>...</td>\n      <td>...</td>\n      <td>...</td>\n      <td>...</td>\n      <td>...</td>\n      <td>...</td>\n      <td>...</td>\n      <td>...</td>\n      <td>...</td>\n      <td>...</td>\n      <td>...</td>\n    </tr>\n    <tr>\n      <th>1720</th>\n      <td>0.0</td>\n      <td>0.0</td>\n      <td>0.0</td>\n      <td>0.0</td>\n      <td>0.0</td>\n      <td>0.0</td>\n      <td>0.0</td>\n      <td>0.0</td>\n      <td>0.0</td>\n      <td>0.0</td>\n      <td>...</td>\n      <td>-0.019647</td>\n      <td>0.026008</td>\n      <td>-0.032711</td>\n      <td>0.002885</td>\n      <td>-0.044107</td>\n      <td>-0.026433</td>\n      <td>-0.000745</td>\n      <td>-0.043905</td>\n      <td>-0.048070</td>\n      <td>-0.023680</td>\n    </tr>\n    <tr>\n      <th>1721</th>\n      <td>0.0</td>\n      <td>0.0</td>\n      <td>0.0</td>\n      <td>0.0</td>\n      <td>0.0</td>\n      <td>0.0</td>\n      <td>0.0</td>\n      <td>0.0</td>\n      <td>0.0</td>\n      <td>0.0</td>\n      <td>...</td>\n      <td>-0.030018</td>\n      <td>-0.019068</td>\n      <td>-0.021037</td>\n      <td>0.007441</td>\n      <td>-0.001744</td>\n      <td>0.014481</td>\n      <td>0.006427</td>\n      <td>-0.040510</td>\n      <td>0.024882</td>\n      <td>0.046480</td>\n    </tr>\n    <tr>\n      <th>1722</th>\n      <td>0.0</td>\n      <td>0.0</td>\n      <td>0.0</td>\n      <td>0.0</td>\n      <td>0.0</td>\n      <td>0.0</td>\n      <td>0.0</td>\n      <td>0.0</td>\n      <td>0.0</td>\n      <td>0.0</td>\n      <td>...</td>\n      <td>-0.039180</td>\n      <td>0.028197</td>\n      <td>0.133708</td>\n      <td>-0.000668</td>\n      <td>0.091200</td>\n      <td>0.060185</td>\n      <td>0.023998</td>\n      <td>0.017122</td>\n      <td>0.026496</td>\n      <td>0.013872</td>\n    </tr>\n    <tr>\n      <th>1723</th>\n      <td>0.0</td>\n      <td>0.0</td>\n      <td>0.0</td>\n      <td>0.0</td>\n      <td>0.0</td>\n      <td>0.0</td>\n      <td>0.0</td>\n      <td>0.0</td>\n      <td>0.0</td>\n      <td>0.0</td>\n      <td>...</td>\n      <td>0.033015</td>\n      <td>-0.010623</td>\n      <td>-0.032000</td>\n      <td>-0.003663</td>\n      <td>-0.067166</td>\n      <td>-0.012841</td>\n      <td>0.047152</td>\n      <td>-0.003716</td>\n      <td>-0.036523</td>\n      <td>-0.062790</td>\n    </tr>\n    <tr>\n      <th>1724</th>\n      <td>0.0</td>\n      <td>0.0</td>\n      <td>0.0</td>\n      <td>0.0</td>\n      <td>0.0</td>\n      <td>0.0</td>\n      <td>0.0</td>\n      <td>0.0</td>\n      <td>0.0</td>\n      <td>0.0</td>\n      <td>...</td>\n      <td>-0.012472</td>\n      <td>-0.014475</td>\n      <td>-0.033967</td>\n      <td>-0.000113</td>\n      <td>-0.023129</td>\n      <td>-0.000008</td>\n      <td>-0.000935</td>\n      <td>0.030033</td>\n      <td>0.041997</td>\n      <td>0.034831</td>\n    </tr>\n  </tbody>\n</table>\n<p>1725 rows × 2058 columns</p>\n</div>"
     },
     "metadata": {},
     "execution_count": 24
    }
   ],
   "source": [
    "df"
   ]
  },
  {
   "cell_type": "code",
   "execution_count": 25,
   "metadata": {},
   "outputs": [],
   "source": [
    "df.to_csv('latentdat.csv',index=False)"
   ]
  },
  {
   "cell_type": "code",
   "execution_count": null,
   "metadata": {},
   "outputs": [],
   "source": []
  }
 ]
}