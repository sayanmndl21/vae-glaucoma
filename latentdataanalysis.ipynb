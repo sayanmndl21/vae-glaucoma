{
 "metadata": {
  "language_info": {
   "codemirror_mode": {
    "name": "ipython",
    "version": 3
   },
   "file_extension": ".py",
   "mimetype": "text/x-python",
   "name": "python",
   "nbconvert_exporter": "python",
   "pygments_lexer": "ipython3",
   "version": "3.8.10"
  },
  "orig_nbformat": 2,
  "kernelspec": {
   "name": "python3810jvsc74a57bd00dc034823c925ab72675d722f7a4a6e69cee72befff823788c49c0ef66a71113",
   "display_name": "Python 3.8.10 64-bit"
  }
 },
 "nbformat": 4,
 "nbformat_minor": 2,
 "cells": [
  {
   "cell_type": "code",
   "execution_count": 1,
   "metadata": {},
   "outputs": [],
   "source": [
    "import numpy as np\n",
    "import pandas as pd\n",
    "import matplotlib.pyplot as plt\n",
    "%matplotlib inline"
   ]
  },
  {
   "cell_type": "code",
   "execution_count": 2,
   "metadata": {},
   "outputs": [],
   "source": [
    "df = pd.read_csv('latentdat.csv')"
   ]
  },
  {
   "cell_type": "code",
   "execution_count": 3,
   "metadata": {},
   "outputs": [
    {
     "output_type": "execute_result",
     "data": {
      "text/plain": [
       "      class  mdprob  psdprob  md_inf  md_sup  rnfl_g  rnfl_ti  rnfl_ni  \\\n",
       "0       1.0     0.0      2.0     0.0     0.0     2.0      2.0      0.0   \n",
       "1       0.0     0.0      0.0     0.0     0.0     0.0      0.0      0.0   \n",
       "2       0.0     0.0      0.0     0.0     0.0     0.0      0.0      0.0   \n",
       "3       0.0     0.0      0.0     0.0     0.0     0.0      0.0      0.0   \n",
       "4       0.0     0.0      0.0     0.0     0.0     0.0      0.0      0.0   \n",
       "...     ...     ...      ...     ...     ...     ...      ...      ...   \n",
       "1720    0.0     0.0      0.0     0.0     0.0     0.0      0.0      0.0   \n",
       "1721    0.0     0.0      0.0     0.0     0.0     0.0      0.0      0.0   \n",
       "1722    0.0     0.0      0.0     0.0     0.0     0.0      0.0      0.0   \n",
       "1723    0.0     0.0      0.0     0.0     0.0     0.0      0.0      0.0   \n",
       "1724    0.0     0.0      0.0     0.0     0.0     0.0      0.0      0.0   \n",
       "\n",
       "      rnfl_ts  rnfl_ns  ...   ls_2038   ls_2039   ls_2040   ls_2041   ls_2042  \\\n",
       "0         2.0      1.0  ... -0.035497  0.017104 -0.024490 -0.003946  0.009751   \n",
       "1         0.0      0.0  ...  0.059229  0.020277 -0.052141 -0.000271 -0.039300   \n",
       "2         0.0      0.0  ... -0.041434  0.092617  0.090972 -0.012806 -0.064488   \n",
       "3         0.0      0.0  ... -0.070935 -0.040561 -0.000830 -0.013262 -0.039083   \n",
       "4         0.0      0.0  ...  0.033665 -0.055730  0.083801  0.018755 -0.152896   \n",
       "...       ...      ...  ...       ...       ...       ...       ...       ...   \n",
       "1720      0.0      0.0  ... -0.019647  0.026008 -0.032711  0.002885 -0.044107   \n",
       "1721      0.0      0.0  ... -0.030018 -0.019068 -0.021037  0.007441 -0.001744   \n",
       "1722      0.0      0.0  ... -0.039180  0.028197  0.133708 -0.000668  0.091200   \n",
       "1723      0.0      0.0  ...  0.033015 -0.010623 -0.032000 -0.003663 -0.067166   \n",
       "1724      0.0      0.0  ... -0.012472 -0.014475 -0.033967 -0.000113 -0.023129   \n",
       "\n",
       "       ls_2043   ls_2044   ls_2045   ls_2046   ls_2047  \n",
       "0    -0.017343 -0.061130  0.020249 -0.026730  0.002883  \n",
       "1     0.032732 -0.040822 -0.031884 -0.044544 -0.066987  \n",
       "2     0.037780 -0.033381  0.000841 -0.044127  0.032626  \n",
       "3    -0.029831 -0.008518 -0.018122 -0.022468 -0.061820  \n",
       "4    -0.028705 -0.033379 -0.043857  0.043309  0.038543  \n",
       "...        ...       ...       ...       ...       ...  \n",
       "1720 -0.026433 -0.000745 -0.043905 -0.048070 -0.023680  \n",
       "1721  0.014481  0.006427 -0.040510  0.024882  0.046480  \n",
       "1722  0.060185  0.023998  0.017122  0.026496  0.013872  \n",
       "1723 -0.012841  0.047152 -0.003716 -0.036523 -0.062790  \n",
       "1724 -0.000008 -0.000935  0.030033  0.041997  0.034831  \n",
       "\n",
       "[1725 rows x 2058 columns]"
      ],
      "text/html": "<div>\n<style scoped>\n    .dataframe tbody tr th:only-of-type {\n        vertical-align: middle;\n    }\n\n    .dataframe tbody tr th {\n        vertical-align: top;\n    }\n\n    .dataframe thead th {\n        text-align: right;\n    }\n</style>\n<table border=\"1\" class=\"dataframe\">\n  <thead>\n    <tr style=\"text-align: right;\">\n      <th></th>\n      <th>class</th>\n      <th>mdprob</th>\n      <th>psdprob</th>\n      <th>md_inf</th>\n      <th>md_sup</th>\n      <th>rnfl_g</th>\n      <th>rnfl_ti</th>\n      <th>rnfl_ni</th>\n      <th>rnfl_ts</th>\n      <th>rnfl_ns</th>\n      <th>...</th>\n      <th>ls_2038</th>\n      <th>ls_2039</th>\n      <th>ls_2040</th>\n      <th>ls_2041</th>\n      <th>ls_2042</th>\n      <th>ls_2043</th>\n      <th>ls_2044</th>\n      <th>ls_2045</th>\n      <th>ls_2046</th>\n      <th>ls_2047</th>\n    </tr>\n  </thead>\n  <tbody>\n    <tr>\n      <th>0</th>\n      <td>1.0</td>\n      <td>0.0</td>\n      <td>2.0</td>\n      <td>0.0</td>\n      <td>0.0</td>\n      <td>2.0</td>\n      <td>2.0</td>\n      <td>0.0</td>\n      <td>2.0</td>\n      <td>1.0</td>\n      <td>...</td>\n      <td>-0.035497</td>\n      <td>0.017104</td>\n      <td>-0.024490</td>\n      <td>-0.003946</td>\n      <td>0.009751</td>\n      <td>-0.017343</td>\n      <td>-0.061130</td>\n      <td>0.020249</td>\n      <td>-0.026730</td>\n      <td>0.002883</td>\n    </tr>\n    <tr>\n      <th>1</th>\n      <td>0.0</td>\n      <td>0.0</td>\n      <td>0.0</td>\n      <td>0.0</td>\n      <td>0.0</td>\n      <td>0.0</td>\n      <td>0.0</td>\n      <td>0.0</td>\n      <td>0.0</td>\n      <td>0.0</td>\n      <td>...</td>\n      <td>0.059229</td>\n      <td>0.020277</td>\n      <td>-0.052141</td>\n      <td>-0.000271</td>\n      <td>-0.039300</td>\n      <td>0.032732</td>\n      <td>-0.040822</td>\n      <td>-0.031884</td>\n      <td>-0.044544</td>\n      <td>-0.066987</td>\n    </tr>\n    <tr>\n      <th>2</th>\n      <td>0.0</td>\n      <td>0.0</td>\n      <td>0.0</td>\n      <td>0.0</td>\n      <td>0.0</td>\n      <td>0.0</td>\n      <td>0.0</td>\n      <td>0.0</td>\n      <td>0.0</td>\n      <td>0.0</td>\n      <td>...</td>\n      <td>-0.041434</td>\n      <td>0.092617</td>\n      <td>0.090972</td>\n      <td>-0.012806</td>\n      <td>-0.064488</td>\n      <td>0.037780</td>\n      <td>-0.033381</td>\n      <td>0.000841</td>\n      <td>-0.044127</td>\n      <td>0.032626</td>\n    </tr>\n    <tr>\n      <th>3</th>\n      <td>0.0</td>\n      <td>0.0</td>\n      <td>0.0</td>\n      <td>0.0</td>\n      <td>0.0</td>\n      <td>0.0</td>\n      <td>0.0</td>\n      <td>0.0</td>\n      <td>0.0</td>\n      <td>0.0</td>\n      <td>...</td>\n      <td>-0.070935</td>\n      <td>-0.040561</td>\n      <td>-0.000830</td>\n      <td>-0.013262</td>\n      <td>-0.039083</td>\n      <td>-0.029831</td>\n      <td>-0.008518</td>\n      <td>-0.018122</td>\n      <td>-0.022468</td>\n      <td>-0.061820</td>\n    </tr>\n    <tr>\n      <th>4</th>\n      <td>0.0</td>\n      <td>0.0</td>\n      <td>0.0</td>\n      <td>0.0</td>\n      <td>0.0</td>\n      <td>0.0</td>\n      <td>0.0</td>\n      <td>0.0</td>\n      <td>0.0</td>\n      <td>0.0</td>\n      <td>...</td>\n      <td>0.033665</td>\n      <td>-0.055730</td>\n      <td>0.083801</td>\n      <td>0.018755</td>\n      <td>-0.152896</td>\n      <td>-0.028705</td>\n      <td>-0.033379</td>\n      <td>-0.043857</td>\n      <td>0.043309</td>\n      <td>0.038543</td>\n    </tr>\n    <tr>\n      <th>...</th>\n      <td>...</td>\n      <td>...</td>\n      <td>...</td>\n      <td>...</td>\n      <td>...</td>\n      <td>...</td>\n      <td>...</td>\n      <td>...</td>\n      <td>...</td>\n      <td>...</td>\n      <td>...</td>\n      <td>...</td>\n      <td>...</td>\n      <td>...</td>\n      <td>...</td>\n      <td>...</td>\n      <td>...</td>\n      <td>...</td>\n      <td>...</td>\n      <td>...</td>\n      <td>...</td>\n    </tr>\n    <tr>\n      <th>1720</th>\n      <td>0.0</td>\n      <td>0.0</td>\n      <td>0.0</td>\n      <td>0.0</td>\n      <td>0.0</td>\n      <td>0.0</td>\n      <td>0.0</td>\n      <td>0.0</td>\n      <td>0.0</td>\n      <td>0.0</td>\n      <td>...</td>\n      <td>-0.019647</td>\n      <td>0.026008</td>\n      <td>-0.032711</td>\n      <td>0.002885</td>\n      <td>-0.044107</td>\n      <td>-0.026433</td>\n      <td>-0.000745</td>\n      <td>-0.043905</td>\n      <td>-0.048070</td>\n      <td>-0.023680</td>\n    </tr>\n    <tr>\n      <th>1721</th>\n      <td>0.0</td>\n      <td>0.0</td>\n      <td>0.0</td>\n      <td>0.0</td>\n      <td>0.0</td>\n      <td>0.0</td>\n      <td>0.0</td>\n      <td>0.0</td>\n      <td>0.0</td>\n      <td>0.0</td>\n      <td>...</td>\n      <td>-0.030018</td>\n      <td>-0.019068</td>\n      <td>-0.021037</td>\n      <td>0.007441</td>\n      <td>-0.001744</td>\n      <td>0.014481</td>\n      <td>0.006427</td>\n      <td>-0.040510</td>\n      <td>0.024882</td>\n      <td>0.046480</td>\n    </tr>\n    <tr>\n      <th>1722</th>\n      <td>0.0</td>\n      <td>0.0</td>\n      <td>0.0</td>\n      <td>0.0</td>\n      <td>0.0</td>\n      <td>0.0</td>\n      <td>0.0</td>\n      <td>0.0</td>\n      <td>0.0</td>\n      <td>0.0</td>\n      <td>...</td>\n      <td>-0.039180</td>\n      <td>0.028197</td>\n      <td>0.133708</td>\n      <td>-0.000668</td>\n      <td>0.091200</td>\n      <td>0.060185</td>\n      <td>0.023998</td>\n      <td>0.017122</td>\n      <td>0.026496</td>\n      <td>0.013872</td>\n    </tr>\n    <tr>\n      <th>1723</th>\n      <td>0.0</td>\n      <td>0.0</td>\n      <td>0.0</td>\n      <td>0.0</td>\n      <td>0.0</td>\n      <td>0.0</td>\n      <td>0.0</td>\n      <td>0.0</td>\n      <td>0.0</td>\n      <td>0.0</td>\n      <td>...</td>\n      <td>0.033015</td>\n      <td>-0.010623</td>\n      <td>-0.032000</td>\n      <td>-0.003663</td>\n      <td>-0.067166</td>\n      <td>-0.012841</td>\n      <td>0.047152</td>\n      <td>-0.003716</td>\n      <td>-0.036523</td>\n      <td>-0.062790</td>\n    </tr>\n    <tr>\n      <th>1724</th>\n      <td>0.0</td>\n      <td>0.0</td>\n      <td>0.0</td>\n      <td>0.0</td>\n      <td>0.0</td>\n      <td>0.0</td>\n      <td>0.0</td>\n      <td>0.0</td>\n      <td>0.0</td>\n      <td>0.0</td>\n      <td>...</td>\n      <td>-0.012472</td>\n      <td>-0.014475</td>\n      <td>-0.033967</td>\n      <td>-0.000113</td>\n      <td>-0.023129</td>\n      <td>-0.000008</td>\n      <td>-0.000935</td>\n      <td>0.030033</td>\n      <td>0.041997</td>\n      <td>0.034831</td>\n    </tr>\n  </tbody>\n</table>\n<p>1725 rows × 2058 columns</p>\n</div>"
     },
     "metadata": {},
     "execution_count": 3
    }
   ],
   "source": [
    "df"
   ]
  },
  {
   "cell_type": "code",
   "execution_count": 9,
   "metadata": {},
   "outputs": [],
   "source": [
    "X = df.iloc[:, 10:]\n",
    "X1 = df.iloc[:,1:10]\n",
    "Y = df['class'].astype(int)"
   ]
  },
  {
   "cell_type": "code",
   "execution_count": 24,
   "metadata": {},
   "outputs": [],
   "source": [
    "from sklearn.model_selection import cross_validate\n",
    "from sklearn.tree import DecisionTreeClassifier\n",
    "from sklearn.decomposition import PCA\n",
    "from sklearn.svm import SVC"
   ]
  },
  {
   "cell_type": "code",
   "execution_count": 20,
   "metadata": {},
   "outputs": [
    {
     "output_type": "execute_result",
     "data": {
      "text/plain": [
       "{'fit_time': array([3.12578464, 2.91762352, 2.97380447, 2.883389  , 2.91482186]),\n",
       " 'score_time': array([1.01938772, 0.95342255, 1.02230239, 0.96445489, 0.99333549]),\n",
       " 'test_score': array([0.77681159, 0.77971014, 0.80869565, 0.70144928, 0.76521739])}"
      ]
     },
     "metadata": {},
     "execution_count": 20
    }
   ],
   "source": [
    "svc = SVC()\n",
    "cv_results = cross_validate(svc, X, Y, cv=5)\n",
    "cv_results"
   ]
  },
  {
   "cell_type": "code",
   "execution_count": 21,
   "metadata": {},
   "outputs": [
    {
     "output_type": "execute_result",
     "data": {
      "text/plain": [
       "{'fit_time': array([0.00797677, 0.00504518, 0.00598431, 0.00405264, 0.00703382]),\n",
       " 'score_time': array([0.00498676, 0.00293207, 0.00299191, 0.00393009, 0.0029943 ]),\n",
       " 'test_score': array([1., 1., 1., 1., 1.])}"
      ]
     },
     "metadata": {},
     "execution_count": 21
    }
   ],
   "source": [
    "tree=DecisionTreeClassifier()\n",
    "svc1= SVC()\n",
    "cv_results = cross_validate(svc1, X1, Y, cv=5)\n",
    "cv_results"
   ]
  },
  {
   "cell_type": "code",
   "execution_count": 25,
   "metadata": {},
   "outputs": [],
   "source": [
    "X_embed = PCA(n_components=9).fit_transform(X)"
   ]
  },
  {
   "cell_type": "code",
   "execution_count": 26,
   "metadata": {},
   "outputs": [
    {
     "output_type": "execute_result",
     "data": {
      "text/plain": [
       "{'fit_time': array([0.06886315, 0.06589913, 0.06682086, 0.06578159, 0.06781721]),\n",
       " 'score_time': array([0.03884649, 0.03782201, 0.040941  , 0.03889728, 0.03690052]),\n",
       " 'test_score': array([0.62028986, 0.6       , 0.62318841, 0.62318841, 0.6115942 ])}"
      ]
     },
     "metadata": {},
     "execution_count": 26
    }
   ],
   "source": [
    "svc = SVC()\n",
    "cv_results = cross_validate(svc, X_embed, Y, cv=5)\n",
    "cv_results"
   ]
  },
  {
   "cell_type": "code",
   "execution_count": 28,
   "metadata": {},
   "outputs": [
    {
     "output_type": "execute_result",
     "data": {
      "text/plain": [
       "(1725, 9)"
      ]
     },
     "metadata": {},
     "execution_count": 28
    }
   ],
   "source": [
    "X_embed.shape"
   ]
  },
  {
   "cell_type": "code",
   "execution_count": null,
   "metadata": {},
   "outputs": [],
   "source": []
  }
 ]
}