{
 "metadata": {
  "language_info": {
   "codemirror_mode": {
    "name": "ipython",
    "version": 3
   },
   "file_extension": ".py",
   "mimetype": "text/x-python",
   "name": "python",
   "nbconvert_exporter": "python",
   "pygments_lexer": "ipython3",
   "version": "3.8.10"
  },
  "orig_nbformat": 2,
  "kernelspec": {
   "name": "python3810jvsc74a57bd00dc034823c925ab72675d722f7a4a6e69cee72befff823788c49c0ef66a71113",
   "display_name": "Python 3.8.10 64-bit"
  }
 },
 "nbformat": 4,
 "nbformat_minor": 2,
 "cells": [
  {
   "cell_type": "code",
   "execution_count": 1,
   "metadata": {},
   "outputs": [],
   "source": [
    "import pandas as pd\n",
    "import numpy as np"
   ]
  },
  {
   "cell_type": "code",
   "execution_count": 10,
   "metadata": {},
   "outputs": [],
   "source": [
    "nl = 5\n",
    "sim = np.random.rand(4)\n",
    "loss = np.random.rand(3)"
   ]
  },
  {
   "cell_type": "code",
   "execution_count": 4,
   "metadata": {},
   "outputs": [],
   "source": []
  },
  {
   "cell_type": "code",
   "execution_count": 11,
   "metadata": {},
   "outputs": [],
   "source": [
    "to_append = [nl]+sim.tolist()+loss.tolist()\n"
   ]
  },
  {
   "cell_type": "code",
   "execution_count": 12,
   "metadata": {},
   "outputs": [
    {
     "output_type": "execute_result",
     "data": {
      "text/plain": [
       "    nl  sim_mean   sim_std   sim_max   sim_min      loss       bce       kld\n",
       "0  2.0  0.146527  0.629718  0.282292  0.403544  0.733726  0.908767  0.590262\n",
       "1  5.0  0.510040  0.349271  0.267366  0.289582  0.328329  0.894657  0.873523"
      ],
      "text/html": "<div>\n<style scoped>\n    .dataframe tbody tr th:only-of-type {\n        vertical-align: middle;\n    }\n\n    .dataframe tbody tr th {\n        vertical-align: top;\n    }\n\n    .dataframe thead th {\n        text-align: right;\n    }\n</style>\n<table border=\"1\" class=\"dataframe\">\n  <thead>\n    <tr style=\"text-align: right;\">\n      <th></th>\n      <th>nl</th>\n      <th>sim_mean</th>\n      <th>sim_std</th>\n      <th>sim_max</th>\n      <th>sim_min</th>\n      <th>loss</th>\n      <th>bce</th>\n      <th>kld</th>\n    </tr>\n  </thead>\n  <tbody>\n    <tr>\n      <th>0</th>\n      <td>2.0</td>\n      <td>0.146527</td>\n      <td>0.629718</td>\n      <td>0.282292</td>\n      <td>0.403544</td>\n      <td>0.733726</td>\n      <td>0.908767</td>\n      <td>0.590262</td>\n    </tr>\n    <tr>\n      <th>1</th>\n      <td>5.0</td>\n      <td>0.510040</td>\n      <td>0.349271</td>\n      <td>0.267366</td>\n      <td>0.289582</td>\n      <td>0.328329</td>\n      <td>0.894657</td>\n      <td>0.873523</td>\n    </tr>\n  </tbody>\n</table>\n</div>"
     },
     "metadata": {},
     "execution_count": 12
    }
   ],
   "source": [
    "df"
   ]
  },
  {
   "cell_type": "code",
   "execution_count": null,
   "metadata": {},
   "outputs": [],
   "source": []
  }
 ]
}